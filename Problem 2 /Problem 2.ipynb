{
 "cells": [
  {
   "cell_type": "code",
   "execution_count": 2,
   "metadata": {},
   "outputs": [
    {
     "data": {
      "text/plain": [
       "(3999, 1001, 3999, 1001)"
      ]
     },
     "execution_count": 2,
     "metadata": {},
     "output_type": "execute_result"
    }
   ],
   "source": [
    "import os\n",
    "import pandas as pd\n",
    "data = pd.read_csv(\"Customer Churn Data.csv\")\n",
    "data = data.drop([\"Id\", \"state\", \"phone_number\"], axis = 1)\n",
    "data[\"international_plan\"] = data[\"international_plan\"].map({\" yes\": True, \" no\": False})\n",
    "data[\"voice_mail_plan\"] = data[\"voice_mail_plan\"].map({\" yes\": True, \" no\": False})\n",
    "data[\"churn\"] = data[\"churn\"].map({\" True\": True, \" False\": False})\n",
    "\n",
    "import numpy as np\n",
    "from sklearn.model_selection import train_test_split\n",
    "\n",
    "data_true = data[data[\"churn\"]]\n",
    "data_false = data[~data[\"churn\"]]\n",
    "\n",
    "train_true, test_true = train_test_split(data_true, test_size=0.2)\n",
    "train_false, test_false = train_test_split(data_false, test_size=0.2)\n",
    "\n",
    "train = pd.concat([train_true, train_false])\n",
    "test = pd.concat([test_true, test_false])\n",
    "\n",
    "train = np.random.permutation(train)\n",
    "test = np.random.permutation(test)\n",
    "\n",
    "train_X = train[:,0:17]\n",
    "train_y = train[:,18].astype(bool)\n",
    "\n",
    "test_X = test[:,0:17]\n",
    "test_y = test[:,18].astype(bool)\n",
    "\n",
    "total = len(test_X)\n",
    "\n",
    "len(train_X), len(test_X), len(train_y), len(test_y)"
   ]
  },
  {
   "cell_type": "code",
   "execution_count": null,
   "metadata": {},
   "outputs": [],
   "source": []
  }
 ],
 "metadata": {
  "kernelspec": {
   "display_name": "Python 2",
   "language": "python",
   "name": "python2"
  },
  "language_info": {
   "codemirror_mode": {
    "name": "ipython",
    "version": 2
   },
   "file_extension": ".py",
   "mimetype": "text/x-python",
   "name": "python",
   "nbconvert_exporter": "python",
   "pygments_lexer": "ipython2",
   "version": "2.7.12"
  }
 },
 "nbformat": 4,
 "nbformat_minor": 2
}
