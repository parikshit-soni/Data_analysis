{
 "cells": [
  {
   "cell_type": "code",
   "execution_count": 9,
   "metadata": {},
   "outputs": [
    {
     "data": {
      "text/plain": [
       "(3999, 1001, 3999, 1001)"
      ]
     },
     "execution_count": 9,
     "metadata": {},
     "output_type": "execute_result"
    }
   ],
   "source": [
    "import os\n",
    "import pandas as pd\n",
    "data = pd.read_csv(\"Customer Churn Data.csv\")\n",
    "data = data.drop([\"Id\", \"state\", \"phone_number\"], axis = 1)\n",
    "data[\"international_plan\"] = data[\"international_plan\"].map({\" yes\": True, \" no\": False})\n",
    "data[\"voice_mail_plan\"] = data[\"voice_mail_plan\"].map({\" yes\": True, \" no\": False})\n",
    "data[\"churn\"] = data[\"churn\"].map({\" True\": True, \" False\": False})\n",
    "data\n",
    "\n",
    "import numpy as np\n",
    "from sklearn.model_selection import train_test_split\n",
    "\n",
    "data_true = data[data[\"churn\"]]\n",
    "data_false = data[~data[\"churn\"]]\n",
    "\n",
    "train_true, test_true = train_test_split(data_true, test_size=0.2)\n",
    "train_false, test_false = train_test_split(data_false, test_size=0.2)\n",
    "\n",
    "train = pd.concat([train_true, train_false])\n",
    "test = pd.concat([test_true, test_false])\n",
    "\n",
    "train = np.random.permutation(train)\n",
    "test = np.random.permutation(test)\n",
    "\n",
    "train_X = train[:,0:17]\n",
    "train_y = train[:,18].astype(bool)\n",
    "\n",
    "test_X = test[:,0:17]\n",
    "test_y = test[:,18].astype(bool)\n",
    "\n",
    "total = len(test_X)\n",
    "\n",
    "len(train_X), len(test_X), len(train_y), len(test_y)\n",
    "\n"
   ]
  },
  {
   "cell_type": "code",
   "execution_count": 10,
   "metadata": {},
   "outputs": [
    {
     "name": "stdout",
     "output_type": "stream",
     "text": [
      "Accuracy of Naive Bayes:  88.1118881119 %\n"
     ]
    }
   ],
   "source": [
    "\n",
    "from sklearn.naive_bayes import GaussianNB\n",
    "\n",
    "Gaussian_NB = GaussianNB()\n",
    "Gaussian_NB.fit(train_X, train_y)\n",
    "Gaussian_NB_pred = Gaussian_NB.predict(test_X)\n",
    "Gaussian_NB_correct = np.count_nonzero(Gaussian_NB_pred == test_y)\n",
    "\n",
    "print \"Accuracy of Naive Bayes: \", Gaussian_NB_correct*100.0/total, \"%\"\n",
    "\n"
   ]
  },
  {
   "cell_type": "code",
   "execution_count": 11,
   "metadata": {},
   "outputs": [
    {
     "name": "stdout",
     "output_type": "stream",
     "text": [
      "Accuracy of Linear SVM:  85.8141858142 %\n"
     ]
    }
   ],
   "source": [
    "from sklearn import svm\n",
    "\n",
    "svm_classifier = svm.SVC(kernel = \"rbf\")\n",
    "svm_classifier.fit(train_X, train_y)\n",
    "svm_pred = svm_classifier.predict(test_X)\n",
    "svm_correct = np.count_nonzero(svm_pred == test_y)\n",
    "\n",
    "print \"Accuracy of Linear SVM: \", svm_correct*100.0/total, \"%\""
   ]
  },
  {
   "cell_type": "code",
   "execution_count": 12,
   "metadata": {},
   "outputs": [
    {
     "name": "stdout",
     "output_type": "stream",
     "text": [
      "Accuracy of Decision Tree:  88.3116883117 %\n"
     ]
    }
   ],
   "source": [
    "from sklearn import tree\n",
    "\n",
    "tree_classifier = tree.DecisionTreeClassifier()\n",
    "tree_classifier = tree_classifier.fit(train_X, train_y)\n",
    "pred = tree_classifier.predict(test_X)\n",
    "correct = np.count_nonzero(pred == test_y)\n",
    "\n",
    "print \"Accuracy of Decision Tree: \", correct*100.0/total, \"%\""
   ]
  },
  {
   "cell_type": "code",
   "execution_count": null,
   "metadata": {},
   "outputs": [],
   "source": []
  },
  {
   "cell_type": "code",
   "execution_count": null,
   "metadata": {},
   "outputs": [],
   "source": []
  }
 ],
 "metadata": {
  "kernelspec": {
   "display_name": "Python 2",
   "language": "python",
   "name": "python2"
  },
  "language_info": {
   "codemirror_mode": {
    "name": "ipython",
    "version": 2
   },
   "file_extension": ".py",
   "mimetype": "text/x-python",
   "name": "python",
   "nbconvert_exporter": "python",
   "pygments_lexer": "ipython2",
   "version": "2.7.12"
  }
 },
 "nbformat": 4,
 "nbformat_minor": 2
}
